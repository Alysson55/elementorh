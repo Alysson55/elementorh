{
  "nbformat": 4,
  "nbformat_minor": 0,
  "metadata": {
    "colab": {
      "name": "Testeelem.ipynb",
      "provenance": [],
      "authorship_tag": "ABX9TyOCEKEi11/7jwvJ43TC449R",
      "include_colab_link": true
    },
    "kernelspec": {
      "name": "python3",
      "display_name": "Python 3"
    },
    "language_info": {
      "name": "python"
    }
  },
  "cells": [
    {
      "cell_type": "markdown",
      "metadata": {
        "id": "view-in-github",
        "colab_type": "text"
      },
      "source": [
        "<a href=\"https://colab.research.google.com/github/Alysson55/elementorh/blob/main/Testeelem.ipynb\" target=\"_parent\"><img src=\"https://colab.research.google.com/assets/colab-badge.svg\" alt=\"Open In Colab\"/></a>"
      ]
    },
    {
      "cell_type": "code",
      "metadata": {
        "id": "8RHIPFwvo2jB"
      },
      "source": [
        "def tira_foto_final(lista_preta, lista_laranja):\n",
        "  tamanho = len(lista_preta)\n",
        "  ponteiro = 0\n",
        "  soma_lista_preta = 0\n",
        "  soma_lista_laranja = 0\n",
        "\n",
        "  while ponteiro <= tamanho-1:\n",
        "    soma_lista_preta = soma_lista_preta + lista_preta[ponteiro]\n",
        "    soma_lista_laranja = soma_lista_laranja + lista_laranja[ponteiro]\n",
        "    ponteiro = ponteiro + 1\n",
        "\n",
        "  if soma_lista_laranja > soma_lista_preta:\n",
        "    fila_de_tras = lista_laranja\n",
        "    fila_da_frente = lista_preta\n",
        "  else:\n",
        "    fila_de_tras = lista_preta\n",
        "    fila_da_frente = lista_laranja\n",
        "\n",
        "  ponteiro = 0\n",
        "  while ponteiro <= tamanho-1:\n",
        "    diferenca = fila_de_tras[ponteiro] - fila_da_frente[ponteiro]\n",
        "\n",
        "    if diferenca <= 0:\n",
        "      return False\n",
        "\n",
        "    ponteiro = ponteiro + 1\n",
        "\n",
        "  return True"
      ],
      "execution_count": null,
      "outputs": []
    },
    {
      "cell_type": "code",
      "metadata": {
        "id": "hVuksnGaBlaQ",
        "colab": {
          "base_uri": "https://localhost:8080/"
        },
        "outputId": "40548926-c7ab-4173-9ef9-6fc7ebd0d30b"
      },
      "source": [
        "lista_preta   = [150, 179, 149, 152, 154]\n",
        "lista_laranja = [162, 181, 151, 160, 170]\n",
        "\n",
        "if tira_foto_final(lista_preta, lista_laranja) == True:\n",
        "  print(\"Dá pra tirar a foto\")\n",
        "else:\n",
        "  print(\"Não dá pra tirar a foto\")"
      ],
      "execution_count": null,
      "outputs": [
        {
          "output_type": "stream",
          "name": "stdout",
          "text": [
            "Dá pra tirar a foto\n"
          ]
        }
      ]
    }
  ]
}