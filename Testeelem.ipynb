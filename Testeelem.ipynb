{
  "nbformat": 4,
  "nbformat_minor": 0,
  "metadata": {
    "colab": {
      "name": "Testeelem.ipynb",
      "provenance": [],
      "authorship_tag": "ABX9TyP14hmASlmIRIfBwVa1N2d1",
      "include_colab_link": true
    },
    "kernelspec": {
      "name": "python3",
      "display_name": "Python 3"
    },
    "language_info": {
      "name": "python"
    }
  },
  "cells": [
    {
      "cell_type": "markdown",
      "metadata": {
        "id": "view-in-github",
        "colab_type": "text"
      },
      "source": [
        "<a href=\"https://colab.research.google.com/github/Alysson55/elementorh/blob/main/Testeelem.ipynb\" target=\"_parent\"><img src=\"https://colab.research.google.com/assets/colab-badge.svg\" alt=\"Open In Colab\"/></a>"
      ]
    },
    {
      "cell_type": "code",
      "metadata": {
        "id": "l6VZMGS6gH0-",
        "colab": {
          "base_uri": "https://localhost:8080/",
          "height": 130
        },
        "outputId": "37fdbe2d-118b-4061-ebe8-70997e88fc4a"
      },
      "source": [
        "\n",
        "#enunciado função defsoma_alvo\n",
        "def somando(list, soma_alvo):\n",
        "   nova_lista = []\n",
        "   for soma_a in list:\n",
        "\n",
        "nova_lista.append(soma_a+soma_alvo)\n",
        "   return nova_lista\n",
        "\n",
        "#variaveis da lista\n",
        "list = [1,2,3,4,5,]\n",
        "soma_alvo = int (input (\"digite o número para a soma: \"))\n",
        "\n",
        "#salvando lista de soma em uma nova variável usando if\n",
        "if not len (list) <= 0:\n",
        "   resultado = somando(list, soma_alvo)\n",
        "\n",
        "   #exibindo resultado na tela\n",
        "   #numeros nao se usam aspas em python\n",
        "   print(resultado)\n",
        "else:\n",
        "   print (\"A listá Esta vazia \")"
      ],
      "execution_count": 1,
      "outputs": [
        {
          "output_type": "error",
          "ename": "IndentationError",
          "evalue": "ignored",
          "traceback": [
            "\u001b[0;36m  File \u001b[0;32m\"<ipython-input-1-95e4c2d7a306>\"\u001b[0;36m, line \u001b[0;32m7\u001b[0m\n\u001b[0;31m    nova_lista.append(soma_a+soma_alvo)\u001b[0m\n\u001b[0m                                       ^\u001b[0m\n\u001b[0;31mIndentationError\u001b[0m\u001b[0;31m:\u001b[0m expected an indented block\n"
          ]
        }
      ]
    }
  ]
}