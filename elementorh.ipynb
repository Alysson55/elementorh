{
  "nbformat": 4,
  "nbformat_minor": 0,
  "metadata": {
    "colab": {
      "name": "elementorh.ipynb",
      "provenance": [],
      "authorship_tag": "ABX9TyPhqLwj2E7Dzrs1OaLQw7Kx",
      "include_colab_link": true
    },
    "kernelspec": {
      "name": "python3",
      "display_name": "Python 3"
    },
    "language_info": {
      "name": "python"
    }
  },
  "cells": [
    {
      "cell_type": "markdown",
      "metadata": {
        "id": "view-in-github",
        "colab_type": "text"
      },
      "source": [
        "<a href=\"https://colab.research.google.com/github/Alysson55/elementorh/blob/main/elementorh.ipynb\" target=\"_parent\"><img src=\"https://colab.research.google.com/assets/colab-badge.svg\" alt=\"Open In Colab\"/></a>"
      ]
    },
    {
      "cell_type": "code",
      "metadata": {
        "colab": {
          "base_uri": "https://localhost:8080/"
        },
        "id": "tJ-wNTkaTjvJ",
        "outputId": "60b9508a-8ca9-40ee-c1b9-4a063ab2e5b5"
      },
      "source": [
        "\n",
        "lista_inicial = [3, 5, -4, 8, 11, 1,-1, 6]\n",
        "soma_alvo = 10\n",
        "resultado = []\n",
        "    \n",
        "for i in lista_inicial:\n",
        "        for j in lista_inicial:\n",
        "            if i != j:\n",
        "                if i+j == soma_alvo:\n",
        "                    resultado.append(i)\n",
        "    \n",
        "print(resultado)"
      ],
      "execution_count": null,
      "outputs": [
        {
          "output_type": "stream",
          "name": "stdout",
          "text": [
            "[11, -1]\n"
          ]
        }
      ]
    }
  ]
}